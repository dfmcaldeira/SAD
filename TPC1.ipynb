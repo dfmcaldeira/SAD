{
  "nbformat": 4,
  "nbformat_minor": 0,
  "metadata": {
    "colab": {
      "name": "TPC1.ipynb",
      "version": "0.3.2",
      "provenance": [],
      "collapsed_sections": [],
      "include_colab_link": true
    },
    "kernelspec": {
      "name": "python2",
      "display_name": "Python 2"
    }
  },
  "cells": [
    {
      "cell_type": "markdown",
      "metadata": {
        "id": "view-in-github",
        "colab_type": "text"
      },
      "source": [
        "[View in Colaboratory](https://colab.research.google.com/github/dfmcaldeira/SAD/blob/master/TPC1.ipynb)"
      ]
    },
    {
      "metadata": {
        "id": "jgi4BVZqvPlV",
        "colab_type": "code",
        "colab": {}
      },
      "cell_type": "code",
      "source": [
        ""
      ],
      "execution_count": 0,
      "outputs": []
    },
    {
      "metadata": {
        "id": "90juOs0xvR0y",
        "colab_type": "text"
      },
      "cell_type": "markdown",
      "source": [
        "# TPC 1\n",
        "# 20160178  Daniel Caldeira\n",
        "# SAD 17/18"
      ]
    },
    {
      "metadata": {
        "id": "ziWVZ1gcvfVA",
        "colab_type": "code",
        "colab": {
          "base_uri": "https://localhost:8080/",
          "height": 51
        },
        "outputId": "7c3b3982-b976-484c-963c-eaf30f7b8778"
      },
      "cell_type": "code",
      "source": [
        "expr = str(input('Expressão:'))\n",
        "S=[]\n",
        "for char in expr:\n",
        "  if char == '(':\n",
        "    s.append('(')\n",
        "  elif char == ')':\n",
        "    if len(s) > 0:\n",
        "      s.pop()\n",
        "    else:\n",
        "      s.append(')')\n",
        "      break\n",
        "      \n",
        "  if char == '[':\n",
        "    s.append('[')\n",
        "  elif char == ']':\n",
        "    if len(s) > 0:\n",
        "      s.pop()\n",
        "    else:\n",
        "      s.append(']')\n",
        "      break\n",
        "      \n",
        "  if char == '{':\n",
        "    s.append('{')\n",
        "  elif char == '}':\n",
        "    if len(s) > 0:                  \n",
        "      s.pop()\n",
        "    else:\n",
        "      s.append('}') \n",
        "      break \n",
        "if len(s) == 0:\n",
        "  print ('1')\n",
        "else: \n",
        "  print ('0')\n",
        "\n",
        "\n",
        "     \n",
        "\n",
        "\n"
      ],
      "execution_count": 17,
      "outputs": [
        {
          "output_type": "stream",
          "text": [
            "Expressão:()\n",
            "1\n"
          ],
          "name": "stdout"
        }
      ]
    }
  ]
}